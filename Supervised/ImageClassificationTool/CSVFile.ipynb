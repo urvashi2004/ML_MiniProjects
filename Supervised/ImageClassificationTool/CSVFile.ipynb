{
 "cells": [
  {
   "cell_type": "code",
   "execution_count": 2,
   "id": "10238953-fb02-4878-ac57-c1b17c2c3170",
   "metadata": {},
   "outputs": [],
   "source": [
    "import pandas as pd\n",
    "\n",
    "# Create a dictionary with image paths and labels\n",
    "data = {\n",
    "    'image_path': [\n",
    "        'images/apple_01.jpg',\n",
    "        'images/apple_02.jpeg',\n",
    "        'images/apple_03.jpg',\n",
    "        'images/banana_01.jpeg',\n",
    "        'images/banana_02.jpeg',\n",
    "        'images/banana_03.jpeg',\n",
    "        'images/cherry_01.jpeg',\n",
    "        'images/cherry_02.jpg',\n",
    "        'images/cherry_03.jpeg',\n",
    "    ],\n",
    "    'label': [\n",
    "        'apple', 'apple', 'apple',\n",
    "        'banana', 'banana', 'banana',\n",
    "        'cherry', 'cherry', 'cherry'\n",
    "    ]\n",
    "}\n",
    "\n",
    "# Convert dictionary to DataFrame\n",
    "df = pd.DataFrame(data)\n",
    "\n",
    "# Save DataFrame to CSV\n",
    "df.to_csv('fruit_images.csv', index=False)"
   ]
  }
 ],
 "metadata": {
  "kernelspec": {
   "display_name": "Python 3 (ipykernel)",
   "language": "python",
   "name": "python3"
  },
  "language_info": {
   "codemirror_mode": {
    "name": "ipython",
    "version": 3
   },
   "file_extension": ".py",
   "mimetype": "text/x-python",
   "name": "python",
   "nbconvert_exporter": "python",
   "pygments_lexer": "ipython3",
   "version": "3.12.4"
  }
 },
 "nbformat": 4,
 "nbformat_minor": 5
}
