{
 "cells": [
  {
   "cell_type": "code",
   "execution_count": 1,
   "id": "5130b836-56eb-4d23-af67-19f81b22769b",
   "metadata": {},
   "outputs": [],
   "source": [
    "import numpy as np\n",
    "from skimage.feature import hog\n",
    "from sklearn.svm import SVC\n",
    "from sklearn.metrics import accuracy_score"
   ]
  },
  {
   "cell_type": "code",
   "execution_count": null,
   "id": "795d1ee4-bed8-4d1b-977a-c02d97414c6a",
   "metadata": {},
   "outputs": [],
   "source": [
    "image = cv2.imread('path/to/your/image.jpg')\n",
    "image_rgb = cv2.cvtColor(image, cv2.COLOR_BGR2RGB)\n",
    "\n",
    "pixels = image_rgb.reshape((-1, 3))\n",
    "\n",
    "pixels = np.float32(pixels)\n",
    "\n",
    "criteria = (cv2.TERM_CRITERIA_EPS + cv2.TERM_CRITERIA_MAX_ITER, 100, 0.2)\n",
    "k = 3\n",
    "_, labels, centers = cv2.kmeans(pixels, k, None, criteria, 10, cv2.KMEANS_RANDOM_CENTERS)\n",
    "\n",
    "centers = np.uint8(centers)\n",
    "\n",
    "segmented_image = centers[labels.flatten()]\n",
    "\n",
    "segmented_image = segmented_image.reshape(image_rgb.shape)"
   ]
  },
  {
   "cell_type": "code",
   "execution_count": null,
   "id": "b265cb06-967a-4485-83ae-0b1946a88834",
   "metadata": {},
   "outputs": [],
   "source": [
    "plt.figure(figsize=(10, 5))\n",
    "plt.subplot(1, 2, 1)\n",
    "plt.imshow(image_rgb)\n",
    "plt.title('Original Image')\n",
    "plt.axis('off')\n",
    "\n",
    "plt.subplot(1, 2, 2)\n",
    "plt.imshow(segmented_image)\n",
    "plt.title('Segmented Image (K-means)')\n",
    "plt.axis('off')\n",
    "\n",
    "plt.show()"
   ]
  },
  {
   "cell_type": "code",
   "execution_count": null,
   "id": "ffddd7c7-86cc-4329-ac4a-70c760930372",
   "metadata": {},
   "outputs": [],
   "source": [
    "for contour in contours:\n",
    "    x, y, w, h = cv2.boundingRect(contour)\n",
    "    cv2.rectangle(image_rgb, (x, y), (x + w, y + h), (255, 0, 0), 2)\n",
    "\n",
    "plt.figure(figsize=(8, 6))\n",
    "plt.imshow(image_rgb)\n",
    "plt.title('Object Detection with Bounding Boxes')\n",
    "plt.axis('off')\n",
    "plt.show()"
   ]
  }
 ],
 "metadata": {
  "kernelspec": {
   "display_name": "Python 3 (ipykernel)",
   "language": "python",
   "name": "python3"
  },
  "language_info": {
   "codemirror_mode": {
    "name": "ipython",
    "version": 3
   },
   "file_extension": ".py",
   "mimetype": "text/x-python",
   "name": "python",
   "nbconvert_exporter": "python",
   "pygments_lexer": "ipython3",
   "version": "3.12.4"
  }
 },
 "nbformat": 4,
 "nbformat_minor": 5
}
