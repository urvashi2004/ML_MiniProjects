{
 "cells": [
  {
   "cell_type": "code",
   "execution_count": 1,
   "id": "412edb01-348d-42e5-8495-9fdd6741a02f",
   "metadata": {},
   "outputs": [],
   "source": [
    "import numpy as np\n",
    "import matplotlib.pyplot as plt\n",
    "from sklearn.datasets import fetch_openml\n",
    "from skimage.feature import hog\n",
    "from sklearn.model_selection import train_test_split\n",
    "from sklearn.svm import SVC\n",
    "from sklearn.metrics import accuracy_score\n",
    "from joblib import Parallel, delayed"
   ]
  },
  {
   "cell_type": "code",
   "execution_count": 2,
   "id": "88df2642-63fe-4641-84a4-2645ff759451",
   "metadata": {},
   "outputs": [],
   "source": [
    "mnist = fetch_openml('mnist_784')\n",
    "x, y = mnist['data'], mnist['target']\n",
    "\n",
    "x = np.array(x, dtype='float32') / 255.0\n",
    "y = np.array(y, dtype='int')"
   ]
  },
  {
   "cell_type": "code",
   "execution_count": 3,
   "id": "fbcf4c9c-05ee-4253-9680-e47c7d1c39a6",
   "metadata": {},
   "outputs": [],
   "source": [
    "def extract_hog(image):\n",
    "    image = image.reshape(28, 28)\n",
    "    hog_feature = hog(image, pixels_per_cell=(4, 4), cells_per_block=(2, 2), visualize=False)\n",
    "    return hog_feature\n",
    "\n",
    "x_hog = Parallel(n_jobs=-1)(delayed(extract_hog)(image) for image in x)\n",
    "x_hog = np.array(x_hog)"
   ]
  },
  {
   "cell_type": "code",
   "execution_count": 4,
   "id": "93268ba0-bd02-4285-8ef9-1939c73b4892",
   "metadata": {},
   "outputs": [
    {
     "name": "stdout",
     "output_type": "stream",
     "text": [
      "Classification accuracy : 0.9769285714285715\n"
     ]
    }
   ],
   "source": [
    "x_train, x_test, y_train, y_test = train_test_split(x_hog, y, test_size=0.2, random_state=42)\n",
    "\n",
    "classifier = SVC(kernel='linear')\n",
    "classifier.fit(x_train, y_train)\n",
    "\n",
    "y_pred = classifier.predict(x_test)\n",
    "\n",
    "accuracy = accuracy_score(y_test, y_pred)\n",
    "print('Classification accuracy :', accuracy)"
   ]
  },
  {
   "cell_type": "code",
   "execution_count": 5,
   "id": "cc28ba1e-b8f5-4974-b871-d71c37aeb7a1",
   "metadata": {},
   "outputs": [
    {
     "data": {
      "image/png": "[encoded data removed]",
      "text/plain": [
       "<Figure size 2000x400 with 10 Axes>"
      ]
     },
     "metadata": {},
     "output_type": "display_data"
    }
   ],
   "source": [
    "n = 5\n",
    "plt.figure(figsize=(20, 4))\n",
    "for i in range(n):\n",
    "    ax = plt.subplot(2, n, i + 1)\n",
    "    plt.imshow(x[i].reshape(28, 28), cmap='gray')\n",
    "    ax.get_xaxis().set_visible(False)\n",
    "    ax.get_yaxis().set_visible(False)\n",
    "\n",
    "    ax = plt.subplot(2, n, i + 1 + n)\n",
    "    hog_image = hog(x[i].reshape(28, 28), pixels_per_cell=(4, 4), cells_per_block=(2, 2), visualize=True)[1]\n",
    "    plt.imshow(hog_image, cmap='gray')\n",
    "    ax.get_xaxis().set_visible(False)\n",
    "    ax.get_yaxis().set_visible(False)\n",
    "plt.show()"
   ]
  },
  {
   "cell_type": "code",
   "execution_count": 7,
   "id": "81bb4653-a647-43ee-9104-bd55d63420cc",
   "metadata": {},
   "outputs": [
    {
     "ename": "ValueError",
     "evalue": "cannot reshape array of size 1296 into shape (28,28)",
     "output_type": "error",
     "traceback": [
      "\u001b[1;31m---------------------------------------------------------------------------\u001b[0m",
      "\u001b[1;31mValueError\u001b[0m                                Traceback (most recent call last)",
      "Cell \u001b[1;32mIn[7], line 7\u001b[0m\n\u001b[0;32m      4\u001b[0m     prediction \u001b[38;5;241m=\u001b[39m classifier\u001b[38;5;241m.\u001b[39mpredict(hog_feature)\n\u001b[0;32m      5\u001b[0m     \u001b[38;5;28;01mreturn\u001b[39;00m prediction\n\u001b[1;32m----> 7\u001b[0m new_image \u001b[38;5;241m=\u001b[39m \u001b[43mx_test\u001b[49m\u001b[43m[\u001b[49m\u001b[38;5;241;43m0\u001b[39;49m\u001b[43m]\u001b[49m\u001b[38;5;241;43m.\u001b[39;49m\u001b[43mreshape\u001b[49m\u001b[43m(\u001b[49m\u001b[38;5;241;43m28\u001b[39;49m\u001b[43m,\u001b[49m\u001b[43m \u001b[49m\u001b[38;5;241;43m28\u001b[39;49m\u001b[43m)\u001b[49m\n\u001b[0;32m      8\u001b[0m predicted_label \u001b[38;5;241m=\u001b[39m predict_new_image(new_image, classifier)\n\u001b[0;32m      9\u001b[0m \u001b[38;5;28mprint\u001b[39m(\u001b[38;5;124m'\u001b[39m\u001b[38;5;124mPredicted label for the new image:\u001b[39m\u001b[38;5;124m'\u001b[39m, predicted_label)\n",
      "\u001b[1;31mValueError\u001b[0m: cannot reshape array of size 1296 into shape (28,28)"
     ]
    }
   ],
   "source": [
    "new_image_feature_vector = np.random.rand(1296)  # Example feature vector of size 1296\n",
    "\n",
    "# Instead of reshaping to (28, 28), process the feature vector directly\n",
    "# For example, if using it for prediction:\n",
    "prediction = classifier.predict([new_image_feature_vector])  # Assuming classifier is defined\n",
    "\n",
    "print('Predicted label for the new image:', prediction)"
   ]
  }
 ],
 "metadata": {
  "kernelspec": {
   "display_name": "Python 3 (ipykernel)",
   "language": "python",
   "name": "python3"
  },
  "language_info": {
   "codemirror_mode": {
    "name": "ipython",
    "version": 3
   },
   "file_extension": ".py",
   "mimetype": "text/x-python",
   "name": "python",
   "nbconvert_exporter": "python",
   "pygments_lexer": "ipython3",
   "version": "3.12.4"
  }
 },
 "nbformat": 4,
 "nbformat_minor": 5
}
