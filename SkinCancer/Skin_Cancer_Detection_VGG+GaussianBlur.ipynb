{
  "nbformat": 4,
  "nbformat_minor": 0,
  "metadata": {
    "colab": {
      "provenance": [],
      "include_colab_link": true
    },
    "kernelspec": {
      "name": "python3",
      "display_name": "Python 3"
    },
    "language_info": {
      "name": "python"
    }
  },
  "cells": [
    {
      "cell_type": "markdown",
      "metadata": {
        "id": "view-in-github",
        "colab_type": "text"
      },
      "source": [
        "<a href=\"https://colab.research.google.com/github/urvashi2004/ML_MiniProjects/blob/main/SkinCancer/Skin_Cancer_Detection_VGG%2BGaussianBlur.ipynb\" target=\"_parent\"><img src=\"https://colab.research.google.com/assets/colab-badge.svg\" alt=\"Open In Colab\"/></a>"
      ]
    },
    {
      "cell_type": "code",
      "execution_count": null,
      "metadata": {
        "colab": {
          "base_uri": "https://localhost:8080/"
        },
        "id": "XAqGqcjhyynu",
        "outputId": "81e1c82c-0a44-47b7-8c0a-c7b0908096de"
      },
      "outputs": [
        {
          "output_type": "stream",
          "name": "stdout",
          "text": [
            "Downloading from https://www.kaggle.com/api/v1/datasets/download/kmader/skin-cancer-mnist-ham10000?dataset_version_number=2...\n"
          ]
        },
        {
          "output_type": "stream",
          "name": "stderr",
          "text": [
            "100%|██████████| 5.20G/5.20G [01:14<00:00, 75.2MB/s]"
          ]
        },
        {
          "output_type": "stream",
          "name": "stdout",
          "text": [
            "Extracting files...\n"
          ]
        },
        {
          "output_type": "stream",
          "name": "stderr",
          "text": [
            "\n"
          ]
        },
        {
          "output_type": "stream",
          "name": "stdout",
          "text": [
            "Path to dataset files: /root/.cache/kagglehub/datasets/kmader/skin-cancer-mnist-ham10000/versions/2\n"
          ]
        }
      ],
      "source": [
        "import kagglehub\n",
        "\n",
        "# Downloading latest version\n",
        "path = kagglehub.dataset_download(\"kmader/skin-cancer-mnist-ham10000\")\n",
        "\n",
        "print(\"Path to dataset files:\", path)"
      ]
    },
    {
      "cell_type": "code",
      "source": [
        "import os\n",
        "\n",
        "dataset_path = \"/root/.cache/kagglehub/datasets/kmader/skin-cancer-mnist-ham10000/versions/2\"\n",
        "for root, dirs, files in os.walk(dataset_path):\n",
        "    print(\"Directory:\", root)\n",
        "    print(\"Subdirectories:\", dirs)\n",
        "    print(\"Files:\", files)\n",
        "    print(\"-\" * 50)\n"
      ],
      "metadata": {
        "id": "EVR6JvWF5VG_"
      },
      "execution_count": null,
      "outputs": []
    },
    {
      "cell_type": "markdown",
      "source": [
        "# Latest trial"
      ],
      "metadata": {
        "id": "gHes5ddCirsl"
      }
    },
    {
      "cell_type": "code",
      "source": [
        "import os\n",
        "import cv2\n",
        "import numpy as np\n",
        "import pandas as pd\n",
        "from sklearn.model_selection import train_test_split\n",
        "from tensorflow.keras.utils import to_categorical\n",
        "from tensorflow.keras.applications import VGG16\n",
        "from tensorflow.keras.models import Model\n",
        "from tensorflow.keras.layers import Dense, Flatten, Dropout\n",
        "from tensorflow.keras.optimizers import Adam\n",
        "from tensorflow.keras.callbacks import EarlyStopping\n"
      ],
      "metadata": {
        "id": "HjBZvOUhiqmj"
      },
      "execution_count": null,
      "outputs": []
    },
    {
      "cell_type": "code",
      "source": [
        "# Step 1: Dataset Reduction\n",
        "def reduce_dataset(metadata, target_classes, samples_per_class=300):\n",
        "    filtered_metadata = metadata[metadata['dx'].isin(target_classes)]\n",
        "    reduced_metadata = filtered_metadata.groupby('dx').apply(\n",
        "        lambda x: x.sample(n=min(len(x), samples_per_class), random_state=42)\n",
        "    ).reset_index(drop=True)\n",
        "    return reduced_metadata"
      ],
      "metadata": {
        "id": "OYQQ2q_-iypf"
      },
      "execution_count": null,
      "outputs": []
    },
    {
      "cell_type": "code",
      "source": [
        "# Step 2: Image Preprocessing\n",
        "def preprocess_image(img_path, target_size=(224, 224)):\n",
        "    img = cv2.imread(img_path)\n",
        "    if img is None:\n",
        "        return np.zeros((target_size[0], target_size[1], 3))  # Placeholder black image\n",
        "    img = cv2.GaussianBlur(img, (5, 5), 0)  # Noise removal\n",
        "    img = cv2.resize(img, target_size)\n",
        "    img = img / 255.0  # Normalize to [0, 1]\n",
        "    return img"
      ],
      "metadata": {
        "id": "7qhI8a-Oi2rY"
      },
      "execution_count": null,
      "outputs": []
    },
    {
      "cell_type": "code",
      "source": [
        "# Step 3: Data Preparation\n",
        "def prepare_data(metadata, target_size=(224, 224)):\n",
        "    X = np.array([preprocess_image(img_path) for img_path in metadata['image_path']])\n",
        "    y = to_categorical(metadata['dx'].factorize()[0])  # One-hot encoding\n",
        "    return X, y"
      ],
      "metadata": {
        "id": "iP5UXLUIi76i"
      },
      "execution_count": null,
      "outputs": []
    },
    {
      "cell_type": "code",
      "source": [
        "# Step 4: Model Definition\n",
        "def build_model(input_shape, num_classes):\n",
        "    base_model = VGG16(weights='imagenet', include_top=False, input_shape=input_shape)\n",
        "    for layer in base_model.layers:\n",
        "        layer.trainable = False  # Freeze base model layers\n",
        "    x = Flatten()(base_model.output)\n",
        "    x = Dense(256, activation='relu')(x)\n",
        "    x = Dropout(0.5)(x)\n",
        "    output = Dense(num_classes, activation='softmax')(x)\n",
        "    model = Model(inputs=base_model.input, outputs=output)\n",
        "    return model"
      ],
      "metadata": {
        "id": "2cwWRIdSjAsu"
      },
      "execution_count": null,
      "outputs": []
    },
    {
      "cell_type": "code",
      "source": [
        "# Main Code\n",
        "dataset_path = \"/root/.cache/kagglehub/datasets/kmader/skin-cancer-mnist-ham10000/versions/2\"\n",
        "metadata_path = os.path.join(dataset_path, \"HAM10000_metadata.csv\")\n",
        "metadata = pd.read_csv(metadata_path)"
      ],
      "metadata": {
        "id": "Jhrxsm9RjGBj"
      },
      "execution_count": null,
      "outputs": []
    },
    {
      "cell_type": "code",
      "source": [
        "# Map image paths\n",
        "image_dirs = [\n",
        "    os.path.join(dataset_path, \"HAM10000_images_part_1\"),\n",
        "    os.path.join(dataset_path, \"HAM10000_images_part_2\"),\n",
        "    os.path.join(dataset_path, \"ham10000_images_part_1\"),\n",
        "    os.path.join(dataset_path, \"ham10000_images_part_2\"),\n",
        "]\n",
        "image_path_mapping = {}\n",
        "for image_dir in image_dirs:\n",
        "    for img_name in os.listdir(image_dir):\n",
        "        if img_name.endswith(\".jpg\"):\n",
        "            image_id = img_name.split(\".\")[0]\n",
        "            image_path_mapping[image_id] = os.path.join(image_dir, img_name)\n",
        "\n",
        "metadata['image_path'] = metadata['image_id'].map(image_path_mapping)\n",
        "metadata = metadata.dropna(subset=['image_path']).reset_index(drop=True)"
      ],
      "metadata": {
        "id": "bE9x7ThajV_7"
      },
      "execution_count": null,
      "outputs": []
    },
    {
      "cell_type": "code",
      "source": [
        "# Reduce dataset\n",
        "target_classes = ['nv', 'mel']  # Adjust based on your target classes\n",
        "reduced_metadata = reduce_dataset(metadata, target_classes, samples_per_class=300)\n",
        "\n",
        "# Split data\n",
        "train_metadata, val_metadata = train_test_split(reduced_metadata, test_size=0.2, random_state=42, stratify=reduced_metadata['dx'])\n"
      ],
      "metadata": {
        "colab": {
          "base_uri": "https://localhost:8080/"
        },
        "id": "IVr4FYZDj7j1",
        "outputId": "a1500574-5bed-456b-d1c4-94b6923a7cfb"
      },
      "execution_count": null,
      "outputs": [
        {
          "output_type": "stream",
          "name": "stderr",
          "text": [
            "<ipython-input-3-b688249c26d4>:4: DeprecationWarning: DataFrameGroupBy.apply operated on the grouping columns. This behavior is deprecated, and in a future version of pandas the grouping columns will be excluded from the operation. Either pass `include_groups=False` to exclude the groupings or explicitly select the grouping columns after groupby to silence this warning.\n",
            "  reduced_metadata = filtered_metadata.groupby('dx').apply(\n"
          ]
        }
      ]
    },
    {
      "cell_type": "code",
      "source": [
        "# Prepare data\n",
        "X_train, y_train = prepare_data(train_metadata)\n",
        "X_val, y_val = prepare_data(val_metadata)\n"
      ],
      "metadata": {
        "id": "SIcbvD0HkFGy"
      },
      "execution_count": null,
      "outputs": []
    },
    {
      "cell_type": "code",
      "source": [
        "# Build and compile model\n",
        "input_shape = (224, 224, 3)\n",
        "num_classes = y_train.shape[1]\n",
        "model = build_model(input_shape, num_classes)\n",
        "model.compile(optimizer=Adam(learning_rate=1e-4), loss='categorical_crossentropy', metrics=['accuracy'])"
      ],
      "metadata": {
        "colab": {
          "base_uri": "https://localhost:8080/"
        },
        "id": "59BJZnRpkIs9",
        "outputId": "e96df9fe-d733-4afe-e7af-6f64ecb4fb2e"
      },
      "execution_count": null,
      "outputs": [
        {
          "output_type": "stream",
          "name": "stdout",
          "text": [
            "Downloading data from https://storage.googleapis.com/tensorflow/keras-applications/vgg16/vgg16_weights_tf_dim_ordering_tf_kernels_notop.h5\n",
            "\u001b[1m58889256/58889256\u001b[0m \u001b[32m━━━━━━━━━━━━━━━━━━━━\u001b[0m\u001b[37m\u001b[0m \u001b[1m0s\u001b[0m 0us/step\n"
          ]
        }
      ]
    },
    {
      "cell_type": "code",
      "source": [
        "# Train the model\n",
        "early_stopping = EarlyStopping(monitor='val_loss', patience=5, restore_best_weights=True)\n",
        "history = model.fit(\n",
        "    X_train, y_train,\n",
        "    validation_data=(X_val, y_val),\n",
        "    epochs=20,\n",
        "    batch_size=32,\n",
        "    callbacks=[early_stopping]\n",
        ")"
      ],
      "metadata": {
        "colab": {
          "base_uri": "https://localhost:8080/"
        },
        "id": "CZrvl2gFkPBs",
        "outputId": "1fb0485f-51d5-403f-a9d3-8087d576ac98"
      },
      "execution_count": null,
      "outputs": [
        {
          "output_type": "stream",
          "name": "stdout",
          "text": [
            "Epoch 1/20\n",
            "\u001b[1m15/15\u001b[0m \u001b[32m━━━━━━━━━━━━━━━━━━━━\u001b[0m\u001b[37m\u001b[0m \u001b[1m390s\u001b[0m 26s/step - accuracy: 0.6514 - loss: 0.6406 - val_accuracy: 0.7000 - val_loss: 0.6257\n",
            "Epoch 2/20\n",
            "\u001b[1m15/15\u001b[0m \u001b[32m━━━━━━━━━━━━━━━━━━━━\u001b[0m\u001b[37m\u001b[0m \u001b[1m434s\u001b[0m 25s/step - accuracy: 0.7608 - loss: 0.5695 - val_accuracy: 0.7583 - val_loss: 0.4977\n",
            "Epoch 3/20\n",
            "\u001b[1m15/15\u001b[0m \u001b[32m━━━━━━━━━━━━━━━━━━━━\u001b[0m\u001b[37m\u001b[0m \u001b[1m393s\u001b[0m 26s/step - accuracy: 0.8343 - loss: 0.4010 - val_accuracy: 0.7667 - val_loss: 0.4884\n",
            "Epoch 4/20\n",
            "\u001b[1m15/15\u001b[0m \u001b[32m━━━━━━━━━━━━━━━━━━━━\u001b[0m\u001b[37m\u001b[0m \u001b[1m429s\u001b[0m 25s/step - accuracy: 0.8797 - loss: 0.3230 - val_accuracy: 0.7750 - val_loss: 0.4845\n",
            "Epoch 5/20\n",
            "\u001b[1m15/15\u001b[0m \u001b[32m━━━━━━━━━━━━━━━━━━━━\u001b[0m\u001b[37m\u001b[0m \u001b[1m395s\u001b[0m 26s/step - accuracy: 0.8265 - loss: 0.4091 - val_accuracy: 0.7667 - val_loss: 0.4748\n",
            "Epoch 6/20\n",
            "\u001b[1m15/15\u001b[0m \u001b[32m━━━━━━━━━━━━━━━━━━━━\u001b[0m\u001b[37m\u001b[0m \u001b[1m432s\u001b[0m 26s/step - accuracy: 0.8207 - loss: 0.3694 - val_accuracy: 0.7417 - val_loss: 0.4855\n",
            "Epoch 7/20\n",
            "\u001b[1m15/15\u001b[0m \u001b[32m━━━━━━━━━━━━━━━━━━━━\u001b[0m\u001b[37m\u001b[0m \u001b[1m388s\u001b[0m 26s/step - accuracy: 0.8263 - loss: 0.3617 - val_accuracy: 0.7333 - val_loss: 0.4854\n",
            "Epoch 8/20\n",
            "\u001b[1m15/15\u001b[0m \u001b[32m━━━━━━━━━━━━━━━━━━━━\u001b[0m\u001b[37m\u001b[0m \u001b[1m433s\u001b[0m 25s/step - accuracy: 0.8389 - loss: 0.3402 - val_accuracy: 0.7250 - val_loss: 0.5082\n",
            "Epoch 9/20\n",
            "\u001b[1m15/15\u001b[0m \u001b[32m━━━━━━━━━━━━━━━━━━━━\u001b[0m\u001b[37m\u001b[0m \u001b[1m382s\u001b[0m 26s/step - accuracy: 0.8265 - loss: 0.3644 - val_accuracy: 0.7500 - val_loss: 0.4827\n",
            "Epoch 10/20\n",
            "\u001b[1m15/15\u001b[0m \u001b[32m━━━━━━━━━━━━━━━━━━━━\u001b[0m\u001b[37m\u001b[0m \u001b[1m436s\u001b[0m 25s/step - accuracy: 0.8633 - loss: 0.3032 - val_accuracy: 0.7500 - val_loss: 0.4854\n"
          ]
        }
      ]
    },
    {
      "cell_type": "code",
      "source": [
        "# Save the model\n",
        "model.save(\"skin_cancer_detector.h5\")"
      ],
      "metadata": {
        "colab": {
          "base_uri": "https://localhost:8080/"
        },
        "id": "DwPYY7RJ2bCR",
        "outputId": "d1c24e68-61a3-4b1b-b86f-d6a94a02dd20"
      },
      "execution_count": null,
      "outputs": [
        {
          "output_type": "stream",
          "name": "stderr",
          "text": [
            "WARNING:absl:You are saving your model as an HDF5 file via `model.save()` or `keras.saving.save_model(model)`. This file format is considered legacy. We recommend using instead the native Keras format, e.g. `model.save('my_model.keras')` or `keras.saving.save_model(model, 'my_model.keras')`. \n"
          ]
        }
      ]
    },
    {
      "cell_type": "code",
      "source": [
        "# Evaluate the model\n",
        "val_loss, val_accuracy = model.evaluate(X_val, y_val)\n",
        "print(f\"Validation Accuracy: {val_accuracy * 100:.2f}%\")"
      ],
      "metadata": {
        "colab": {
          "base_uri": "https://localhost:8080/"
        },
        "id": "c6Od0Wrw2f9X",
        "outputId": "32acdb0a-82c8-4d11-c470-fdda13fc948d"
      },
      "execution_count": null,
      "outputs": [
        {
          "output_type": "stream",
          "name": "stdout",
          "text": [
            "\u001b[1m4/4\u001b[0m \u001b[32m━━━━━━━━━━━━━━━━━━━━\u001b[0m\u001b[37m\u001b[0m \u001b[1m75s\u001b[0m 18s/step - accuracy: 0.7702 - loss: 0.4711\n",
            "Validation Accuracy: 76.67%\n"
          ]
        }
      ]
    },
    {
      "cell_type": "code",
      "source": [
        "dataset_path = \"/root/.cache/kagglehub/datasets/kmader/skin-cancer-mnist-ham10000/versions/2\"\n",
        "metadata = load_data(dataset_path)\n",
        "\n",
        "# Check if all images are found\n",
        "missing_images = metadata[metadata['image_path'].isnull()]\n",
        "if not missing_images.empty:\n",
        "    print(\"Missing images:\", missing_images)\n",
        "else:\n",
        "    print(\"All images are correctly mapped!\")\n"
      ],
      "metadata": {
        "colab": {
          "base_uri": "https://localhost:8080/"
        },
        "id": "TEwgeyKt6Ty2",
        "outputId": "ba36c6c3-8f9d-4d8a-f639-149cbf60705c"
      },
      "execution_count": null,
      "outputs": [
        {
          "output_type": "stream",
          "name": "stdout",
          "text": [
            "All images are correctly mapped!\n"
          ]
        }
      ]
    }
  ]
}